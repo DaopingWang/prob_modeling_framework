{
 "cells": [
  {
   "cell_type": "markdown",
   "metadata": {},
   "source": [
    "### Preparation"
   ]
  },
  {
   "cell_type": "code",
   "execution_count": null,
   "metadata": {},
   "outputs": [],
   "source": [
    "include(\"../../src/modeling/embedded_correlation_lib.jl\")\n",
    "include(\"../../src/modeling/correlation_lib.jl\")\n",
    "include(\"../../src/modeling/util.jl\")\n",
    "using SQLite\n",
    "using CSV\n",
    "using DataFrames: DataFrame, Missing\n",
    "using Statistics, LinearAlgebra, Logging, Random\n",
    "using Gen"
   ]
  },
  {
   "cell_type": "markdown",
   "metadata": {},
   "source": [
    "# Simple rent model\n",
    "- Columns are ```state, city, zip, rent```\n",
    "- Joint probability distribution function:\n",
    "\n",
    "$Pr(state, city, zip, rent) = Pr(state)\\,Pr(city|state)\\,Pr(zip|city)\\,Pr(rent|city)$\n",
    "- Can be interpreted as a Bayes Net\n",
    "- Current assumptions:\n",
    "    - High cardinality\n",
    "    - Occurrence information has less meaning\n",
    "    - No ground truth about $dom(X)$ and $P(X)$"
   ]
  },
  {
   "cell_type": "markdown",
   "metadata": {},
   "source": [
    "### Read and parse data"
   ]
  },
  {
   "cell_type": "code",
   "execution_count": null,
   "metadata": {
    "scrolled": true
   },
   "outputs": [],
   "source": [
    "CAT_ATTRS = [:state, :city]\n",
    "NUM_ATTRS = [:zip, :rent]\n",
    "TSV_PATH_PREFIX = \"../../data/tsv/20191218_simple_5_oversampling/num_zip/simple_5_os_\"\n",
    "CAT_EMBEDDING_DICT = merge([read_tsv(\"$(TSV_PATH_PREFIX)$(cat_attr)_meta.tsv\",\n",
    "                            \"$(TSV_PATH_PREFIX)$(cat_attr)_vec.tsv\")\n",
    "                            for cat_attr in CAT_ATTRS]...)\n",
    "\n",
    "db = SQLite.DB()\n",
    "rent_table = CSV.File(\"../../data/rent_data/simple_rent_5_per_city.csv\") |> SQLite.load!(db, \"rent_table\")\n",
    "df = SQLite.Query(db, \"SELECT * FROM rent_table\") |> DataFrame\n",
    "emb_df = replace_with_emb(df, CAT_ATTRS, NUM_ATTRS, CAT_EMBEDDING_DICT)\n",
    "df"
   ]
  },
  {
   "cell_type": "markdown",
   "metadata": {},
   "source": [
    "### Model with categorical variables\n",
    "- ```categorical_co_occurrence(\"Starnberg\", rent)``` models $Pr(rent|city)$:\n",
    "    - It seeks entries with ```Starnberg``` in the given database;\n",
    "    - It samples rent from probability distribution with mean and variance calculated from entries found;\n",
    "    - If e.g. only one entry is found, there is no variance. Thus the function requires a hyperparam \"minimum variance\", or otherwise it computes the whole variance of rent within the database."
   ]
  },
  {
   "cell_type": "code",
   "execution_count": null,
   "metadata": {},
   "outputs": [],
   "source": [
    "@gen function simple_rent_plain_model(df)\n",
    "    @info \"-----------------SIMPLEPLAIN\"\n",
    "    # w/o frequency info\n",
    "    states = unique(df.state)\n",
    "    occurrence = [sum(df.state .== s) for s in states]\n",
    "    probs = LinearAlgebra.normalize(occurrence, 1)\n",
    "    state = @trace(categorical_named(states, probs), :state => :realization)\n",
    "\n",
    "    # with frequency info\n",
    "    # state = uniform_categorical(states)\n",
    "    @info \"$state\"\n",
    "\n",
    "    city = @trace(categorical_co_occurrence(df,\n",
    "                                            [:state,],\n",
    "                                            [\"categorical\"],\n",
    "                                            :city,\n",
    "                                            [state],\n",
    "                                            true), :city)\n",
    "\n",
    "    @info \"$city\"\n",
    "\n",
    "    zip = @trace(categorical_co_occurrence(df,\n",
    "                                            [:city],\n",
    "                                            [\"categorical\"],\n",
    "                                            :zip,\n",
    "                                            [city],\n",
    "                                            true), :zip)\n",
    "    @info \"$zip\"\n",
    "\n",
    "    total_rent = @trace(numerical_co_occurrence(df,\n",
    "                                                [:city],\n",
    "                                                [\"categorical\"],\n",
    "                                                :rent,\n",
    "                                                [city],\n",
    "                                                false,\n",
    "                                                true), :rent)\n",
    "\n",
    "    @info \"Totally $total_rent\"\n",
    "end;"
   ]
  },
  {
   "cell_type": "markdown",
   "metadata": {},
   "source": [
    "### Model with embedded categorical variables\n",
    "- ```embedding_co_occurrence(\"Starnberg\", rent)```:\n",
    "    - It seeks entries with ```Starnberg``` in the given database;\n",
    "    - If number of entries found is less than $k$, which is the mandatory size of the neighborhood, the function seeks neighbors of ```Starnberg```:\n",
    "    $x_{city} = arg\\,min_{x_{city}}\\,cos\\_dist(Starnberg, x_{city})$, $x_{city} \\in dom(city)$\n",
    "    - It samples rent from probability distribution with mean and variance calculated from entries found above."
   ]
  },
  {
   "cell_type": "code",
   "execution_count": null,
   "metadata": {},
   "outputs": [],
   "source": [
    "@gen function simple_rent_emb_model(df, emb_df, emb_dict)\n",
    "    @info \"-----------------SIMPLEEMB\"\n",
    "    # w/o frequency info\n",
    "    states = unique(df.state)\n",
    "    occurrence = [sum(df.state .== s) for s in states]\n",
    "    probs = LinearAlgebra.normalize(occurrence, 1)\n",
    "    state = @trace(categorical_named(states, probs), :state => :realization)\n",
    "\n",
    "    # with frequency info\n",
    "    # state = uniform_categorical(states)\n",
    "    @info \"$state\"\n",
    "\n",
    "    # sample city from neighborhood, this is a hyperparameter...\n",
    "    city_neighborhood_size = 1\n",
    "    city = @trace(embedding_co_occurrence(df,\n",
    "                                            emb_df,\n",
    "                                            emb_dict,\n",
    "                                            [:state,],\n",
    "                                            [\"embedding\"],\n",
    "                                            :city,\n",
    "                                            \"categorical\",\n",
    "                                            [state],\n",
    "                                            city_neighborhood_size), :city)\n",
    "    @info \"$city\"\n",
    "\n",
    "    # neighborhood size == 1 means we want no emb based neighbors\n",
    "    zip_neighborhood_size = 1\n",
    "    zip = @trace(embedding_co_occurrence(df,\n",
    "                                            emb_df,\n",
    "                                            emb_dict,\n",
    "                                            [:city],\n",
    "                                            [\"embedding\"],\n",
    "                                            :zip,\n",
    "                                            \"categorical\",\n",
    "                                            [city],\n",
    "                                            zip_neighborhood_size), :zip)\n",
    "    @info \"$zip\"\n",
    "\n",
    "    rent_neighborhood_size = 5\n",
    "    total_rent = @trace(embedding_co_occurrence(df,\n",
    "                                                emb_df,\n",
    "                                                emb_dict,\n",
    "                                                [:city],\n",
    "                                                [\"embedding\"],\n",
    "                                                :rent,\n",
    "                                                \"numerical\",\n",
    "                                                [city],\n",
    "                                                rent_neighborhood_size), :rent)\n",
    "\n",
    "    @info \"Totally $total_rent\" #lsr $living_space_rent, chlsr $city_heating_ls_rent\"\n",
    "end;"
   ]
  },
  {
   "cell_type": "markdown",
   "metadata": {},
   "source": [
    "###  Abnormalities in the dataset\n",
    "- Each city in $dom(city)$ appears 5 times\n",
    "- ```Berlin``` occurs once\n",
    "- ```Frankfurt``` occurs once with rent of FaM\n",
    "- ```Starnberg``` occurs once with high rent"
   ]
  },
  {
   "cell_type": "code",
   "execution_count": null,
   "metadata": {},
   "outputs": [],
   "source": [
    "disable_logging(LogLevel(10))\n",
    "(emb_traces, emb_scores) = k_most_improbable_neo(5,\n",
    "                                    df,\n",
    "                                    df,\n",
    "                                    vcat(CAT_ATTRS, NUM_ATTRS),\n",
    "                                    simple_rent_emb_model,\n",
    "                                    (df, emb_df, CAT_EMBEDDING_DICT))\n",
    "\n",
    "(plain_traces, plain_scores) = k_most_improbable_neo(5,\n",
    "                                    df,\n",
    "                                    df,\n",
    "                                    vcat(CAT_ATTRS, NUM_ATTRS),\n",
    "                                    simple_rent_plain_model,\n",
    "                                    (df, ))\n",
    "df[1:3, :]"
   ]
  },
  {
   "cell_type": "markdown",
   "metadata": {},
   "source": [
    "### Result without embeddings:"
   ]
  },
  {
   "cell_type": "code",
   "execution_count": null,
   "metadata": {},
   "outputs": [],
   "source": [
    "for (i, trace) in enumerate(plain_traces)\n",
    "    println(\"---------------\")\n",
    "    for attr in vcat(CAT_ATTRS, NUM_ATTRS)\n",
    "        println(\"$(attr): $(trace[attr => :realization])\")\n",
    "    end\n",
    "    println(plain_scores[i])\n",
    "end"
   ]
  },
  {
   "cell_type": "markdown",
   "metadata": {},
   "source": [
    "### With embeddings:"
   ]
  },
  {
   "cell_type": "code",
   "execution_count": null,
   "metadata": {},
   "outputs": [],
   "source": [
    "for (i, trace) in enumerate(emb_traces)\n",
    "    println(\"---------------\")\n",
    "    for attr in vcat(CAT_ATTRS, NUM_ATTRS)\n",
    "        println(\"$(attr): $(trace[attr => :realization])\")\n",
    "    end\n",
    "    println(emb_scores[i])\n",
    "end"
   ]
  }
 ],
 "metadata": {
  "kernelspec": {
   "display_name": "Julia 1.2.0",
   "language": "julia",
   "name": "julia-1.2"
  },
  "language_info": {
   "file_extension": ".jl",
   "mimetype": "application/julia",
   "name": "julia",
   "version": "1.2.0"
  }
 },
 "nbformat": 4,
 "nbformat_minor": 2
}
