{
 "cells": [
  {
   "cell_type": "markdown",
   "metadata": {},
   "source": [
    "### Preparation"
   ]
  },
  {
   "cell_type": "code",
   "execution_count": null,
   "metadata": {},
   "outputs": [],
   "source": [
    "cd(\"../../src/\")\n",
    "include(\"modeling/correlation_lib.jl\")\n",
    "include(\"modeling/util.jl\")\n",
    "using SQLite\n",
    "using CSV\n",
    "using DataFrames: DataFrame, Missing\n",
    "using Statistics, LinearAlgebra, Logging, Random\n",
    "using Gen\n",
    "\n",
    "cd(\"../data/rent_data/\")\n",
    "\n",
    "db = SQLite.DB()\n",
    "rent_table = CSV.File(\"rent_data.csv\") |> SQLite.load!(db, \"rent_table\")\n",
    "k_score_table = CSV.File(\"rent_data_1000.csv\") |> SQLite.load!(db, \"k_score_table\")\n",
    "\n",
    "(observation_df, _, _, _) = parse_data(db)\n",
    "\n",
    "attrs = Dict(:state => :dirty_state,\n",
    "            :city => :dirty_city,\n",
    "            :zip => :dirty_zip,\n",
    "            :rent => :rent);"
   ]
  },
  {
   "cell_type": "markdown",
   "metadata": {},
   "source": [
    "# Rent Model\n",
    "Implements a generative model that \n",
    "- reads a dataset (observation) of rent data,\n",
    "- incorperates external domain knowledge (e.g. zips are uniquely assigned to cities), \n",
    "- samples new rent data based on the statistical information extracted from observation (occurrence statistics, correlation between columns etc.) and\n",
    "- evaluates the probability of given data entry being sampled by this model.\n",
    "\n",
    "#### Columns of the observation dataset\n",
    "- __State__: Names of German states\n",
    "- __City__: Names of German cities\n",
    "- __Zip__: We assume for now that one city has only one zip code\n",
    "- __Rent price__\n",
    "\n",
    "#### Types of error within observation:\n",
    "- __Typos__: State, city and zip could be misspelled\n",
    "- __Conflict__: State, city and zip could be conflicting\n",
    "- __Outlier__: Rent price could be abnormally high/low\n",
    "\n",
    "#### Assumptions\n",
    "- We have no idea about which cities and states exist in Germany\n",
    "- We cannot check which cities belong to which state\n",
    "- The observation dataset is \"mostly\" correct, that is, most values and combinations are trustworthy\n",
    "- We know the fundamental connections between state, city and zip\n",
    "- We assume the rent prices within the same city are similar to some extent\n",
    "\n",
    "#### Things we can do with this model:\n",
    "- Sample fake data\n",
    "- Detect outlier: probability evaluation for arbitrary combinations of column values\n",
    "- Correct data: filling out missing data with most probable values, give suggestions for outliers -> Inference"
   ]
  },
  {
   "cell_type": "code",
   "execution_count": null,
   "metadata": {
    "scrolled": true
   },
   "outputs": [],
   "source": [
    "observation_df"
   ]
  },
  {
   "cell_type": "markdown",
   "metadata": {},
   "source": [
    "### 1. Defining sampling process\n",
    "We think about how the dataset is generated in the first place, and define the sampling order for the columns.\n",
    "1. __State__: the more often a state value appears in our observation, the more probable it is to be clean, thus \n",
    "\n",
    "$P(State=\"Bayern\")\\propto n_{State=\"Bayern\"}$. \n",
    "\n",
    "The sampler samples ```sampled_state```.\n",
    "2. __City__: While the same story applies to city, we think that cities that co-occurs with ```sampled_state``` are probably clean, and the number of co-occurrence matters. Thus \n",
    "\n",
    "$P(City=\"Muenchen\"|State=sampled\\_state)\\propto n_{State=sampled\\_state\\land City=\"Muenchen\"} \\cdot n_{City=\"Muenchen\"}$.\n",
    "\n",
    "The sampler samples ```sampled_city```.\n",
    "3. __Zip__: The total occurrence of zip codes and co-occurrence with ```sampled_city``` and ```sampled_state``` are considered.\n",
    "4. __Rent__: We take the set of observed data entries with```sampled_state```, ```sampled_city``` and ```sampled_zip```, calculate mean and standard deviation of their rent prices, and sample from the according normal distribution.\n"
   ]
  },
  {
   "cell_type": "code",
   "execution_count": null,
   "metadata": {},
   "outputs": [],
   "source": [
    "@gen function rent_model(realization_df)\n",
    "    @info \"-----------------\"\n",
    "    state = @trace(occurrence(realization_df,\n",
    "                            :dirty_state), :state)\n",
    "    @info \"Sampled state: $state\"\n",
    "\n",
    "    city = @trace(co_occurrence(realization_df,\n",
    "                            [:dirty_state,],\n",
    "                            :dirty_city,\n",
    "                            [String(state)],\n",
    "                            true), :city)\n",
    "    @info \"Sampled city: $city\"\n",
    "\n",
    "    zip = @trace(co_occurrence(realization_df,\n",
    "                                    [:dirty_state, :dirty_city],\n",
    "                                    :dirty_zip,\n",
    "                                    [String(state), String(city)],\n",
    "                                    true), :zip)\n",
    "    @info \"Sampled zip: $zip\"\n",
    "\n",
    "    rent = @trace(numerical_functional_dependency(realization_df,\n",
    "                                                        [:dirty_state, :dirty_city, :dirty_zip],\n",
    "                                                        :rent,\n",
    "                                                        [String(state), String(city), String(zip)],\n",
    "                                                        true,\n",
    "                                                        true), :rent)\n",
    "    new_rent = @trace(numerical_co_occurrence(realization_df,\n",
    "            [:dirty_state, :dirty_city, :dirty_zip],\n",
    "            [],\n",
    "            (:rent, 1.),\n",
    "            [String(state), String(city), String(zip)],\n",
    "            true,\n",
    "            false), :new_rent)\n",
    "    @info \"Sampled rent: $rent and $new_rent\"\n",
    "    end;"
   ]
  },
  {
   "cell_type": "markdown",
   "metadata": {},
   "source": [
    "### 2. Sampling synthetic data\n",
    "By letting the model run, it samples new entries based on the knowledge it discovers from the observation."
   ]
  },
  {
   "cell_type": "code",
   "execution_count": null,
   "metadata": {},
   "outputs": [],
   "source": [
    "#disable_logging(LogLevel(10))\n",
    "\n",
    "trace = Gen.simulate(rent_model, (observation_df, ))\n",
    "score = get_score(trace)\n",
    "println(\"$(trace[:state => :realization]) \\n$(trace[:city => :realization]) \\n$(trace[:zip => :realization]) \\n$(trace[:rent => :realization])\")\n",
    "println(\"Log-likelihood: $score\")"
   ]
  },
  {
   "cell_type": "markdown",
   "metadata": {},
   "source": [
    "### 3. Evaluating probability for given data entry\n",
    "For given entry $x$, the model returns the log-likelihood of the joint probability:\n",
    "\n",
    "$L(x) = log(P(x|rent\\_model)) =$\n",
    "\n",
    "$log(P(State=x.state)\\cdot P(City=x.city|State=x.state)\\cdot P(Zip=x.zip|State=x.state \\land City=x.city) \\cdot P(Rent=x.rent|City=x.city \\land Zip=x.zip))$"
   ]
  },
  {
   "cell_type": "code",
   "execution_count": null,
   "metadata": {},
   "outputs": [],
   "source": [
    "constraints = Gen.choicemap()\n",
    "constraints[:state => :realization] = Symbol(\"Bayern\")\n",
    "constraints[:city => :realization] = Symbol(\"Muenchen\")\n",
    "constraints[:zip => :realization] = Symbol(\"80331\")\n",
    "constraints[:rent => :realization] = 11.73\n",
    "\n",
    "(trace, weight) = Gen.generate(rent_model, (observation_df, ), constraints)\n",
    "println(\"$(trace[:state => :realization])\n",
    "$(trace[:city => :realization])\n",
    "$(trace[:zip => :realization])\n",
    "$(trace[:rent => :realization])\")\n",
    "score = get_score(trace)\n",
    "println(\"Log-likelihood: $score\\n\")"
   ]
  },
  {
   "cell_type": "markdown",
   "metadata": {},
   "source": [
    "#### For the observation data, the model can output e.g. $k$ entries that are the most improbable:"
   ]
  },
  {
   "cell_type": "code",
   "execution_count": null,
   "metadata": {
    "scrolled": true
   },
   "outputs": [],
   "source": [
    "k_score_df = SQLite.Query(db, \"SELECT dirty_state, dirty_city, dirty_zip, rent FROM k_score_table\") |> DataFrame\n",
    "k_score_df"
   ]
  },
  {
   "cell_type": "code",
   "execution_count": null,
   "metadata": {},
   "outputs": [],
   "source": [
    "# observation_df_short = observation_df[1:2000, :]\n",
    "(k_traces, k_scores) = k_most_improbable(10, k_score_df, attrs, rent_model)\n",
    "\n",
    "for trace in k_traces\n",
    "    println(\"--------------------\")\n",
    "    println(\"$(trace[:state => :realization])\\n$(trace[:city => :realization])\\n$(trace[:zip => :realization])\\n$(trace[:rent => :realization])\")\n",
    "    score = get_score(trace)\n",
    "    println(\"Log-likelihood: $score\\n\")\n",
    "end"
   ]
  },
  {
   "cell_type": "markdown",
   "metadata": {},
   "source": [
    "#### Some facts about the evaluation dataset:\n",
    "- $n_{Kaufbeuren} = n_{Passau} = 1$\n",
    "- $n_{Hof} = n_{Bayreuth} = 2$"
   ]
  },
  {
   "cell_type": "markdown",
   "metadata": {},
   "source": [
    "### 4. Generating repair suggestion for outliers\n",
    "For entries with missing column values, the model uses e.g. importance resampling to find possible values that maximize the joint probability."
   ]
  },
  {
   "cell_type": "code",
   "execution_count": null,
   "metadata": {},
   "outputs": [],
   "source": [
    "function do_inference(model, args, constraints, num_iter)\n",
    "    (trace, lml_est) = Gen.importance_resampling(model, args, constraints, num_iter)\n",
    "    return (trace, lml_est)\n",
    "end\n",
    "\n",
    "constraints = Gen.choicemap()\n",
    "#constraints[:state => :realization] = Symbol(\"Bayern\")\n",
    "constraints[:city => :realization] = Symbol(\"Muenchen\")\n",
    "constraints[:zip => :realization] = Symbol(\"80331\")\n",
    "constraints[:rent => :realization] = 11.73\n",
    "\n",
    "(trace, _) = do_inference(rent_model, (observation_df, ), constraints, 50)\n",
    "println(\"$(trace[:state => :realization]) \\n$(trace[:city => :realization]) \\n$(trace[:zip => :realization]) \\n$(trace[:rent => :realization])\")\n",
    "score = get_score(trace)\n",
    "println(\"Log-likelihood: $score\")"
   ]
  },
  {
   "cell_type": "markdown",
   "metadata": {},
   "source": [
    "==================================================================\n",
    "### What is achieved?\n",
    "1. A generative model for outlier detection and repair suggestion. It can be both supervised and completely unsupervised.\n",
    "2. A programming paradigm that can be applied to other database problems from other domains. "
   ]
  },
  {
   "cell_type": "markdown",
   "metadata": {},
   "source": [
    "### General problems\n",
    "1. The number of occurrence is assumed to have strong meaning for correctness. What if this is not the case?\n",
    "   \n",
    "   $\\to$ More external knowledge is required (e.g. list of cities)\n",
    "   \n",
    "   \n",
    "2. For each categorical column, a categorical distribution is estalished, where each categorical value has a certain probability that is proportional to e.g. the number of co-occurrence with values from another categorical column. Such cross-column relationships are stated explicitly. What if they are unknown or imprecise?\n",
    "    \n",
    "   $\\to$ Learn vector representations for categorical values, where the distance between their vector representations implies the \"similarity\" between them\n",
    "\n",
    "\n",
    "3. The model implements external knowledge and statistical findings in a \"hard\" fashion, i.e. there are no trainable parameters that can improve performance over time.\n",
    "\n",
    "\n",
    "4. Performance comparison between such generative models and conventional methods has to be conducted."
   ]
  },
  {
   "cell_type": "markdown",
   "metadata": {},
   "source": [
    "### Other problems    \n",
    "1. If e.g. \"Bayrn\", \"Münhen\", \"80331\", \"10€\" appearred only once in the dataset, what is the distribution of rent?\n",
    "   \n",
    "   $\\to$ Find better way of modeling the distribution of numerical columns\n",
    "\n",
    "\n",
    "2. Repair suggestion requires better inference algorithm to avoid combination explosion.\n",
    "\n",
    "\n",
    "3. Other performance issues that are related to implementation."
   ]
  }
 ],
 "metadata": {
  "kernelspec": {
   "display_name": "Julia 1.2.0",
   "language": "julia",
   "name": "julia-1.2"
  },
  "language_info": {
   "file_extension": ".jl",
   "mimetype": "application/julia",
   "name": "julia",
   "version": "1.2.0"
  }
 },
 "nbformat": 4,
 "nbformat_minor": 2
}
