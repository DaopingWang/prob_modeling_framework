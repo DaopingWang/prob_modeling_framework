{
 "cells": [
  {
   "cell_type": "markdown",
   "source": [
    "Preparation and plot functions"
   ],
   "metadata": {
    "collapsed": false
   }
  },
  {
   "cell_type": "code",
   "execution_count": null,
   "metadata": {
    "collapsed": true,
    "pycharm": {
     "is_executing": false
    }
   },
   "outputs": [],
   "source": [
    "import numpy as np\n",
    "import pandas as pd\n",
    "import matplotlib.pyplot as plt\n",
    "import matplotlib\n",
    "matplotlib.rcParams['text.usetex'] = True\n",
    "from itertools import cycle\n",
    "from numpy import trapz\n",
    "\n",
    "COLORS = ['b', 'g', 'r', 'c', 'm', 'y', 'k']\n",
    "\n",
    "\n",
    "def plot_pr(line_dfs, labels, title, filename):\n",
    "    lw = 2\n",
    "    plt.figure()\n",
    "    for i, df in enumerate(line_dfs):\n",
    "        #auc = trapz(df['precision'], df['recall'])\n",
    "        plt.plot(df['recall'], df['precision'],\n",
    "                 label=labels[i],# + ', AUC = ' + str(round(auc, 3)),\n",
    "                 color=COLORS[i], linewidth=lw)\n",
    "\n",
    "    #plt.plot([0, 1], [0, 1], 'k--', lw=lw)\n",
    "    ppn = round(line_dfs[0]['precision'][len(line_dfs[0]['precision'])-1], 3)\n",
    "    plt.axhline(y=ppn, color='gray', linestyle='--', label='Random Classifier')\n",
    "    plt.xlim([0.0, 1.0])\n",
    "    plt.ylim([0.0, 1.0])\n",
    "    plt.grid()\n",
    "    plt.xlabel('Recall')\n",
    "    plt.ylabel('Precision')\n",
    "    plt.title(title)\n",
    "    plt.legend(loc=\"upper right\")\n",
    "    plt.savefig(filename, dpi=480)\n",
    "    plt.show()\n",
    "\n",
    "\n",
    "def plot_roc(line_dfs, labels, title, filename):\n",
    "    lw = 2\n",
    "    plt.figure()\n",
    "    for i, df in enumerate(line_dfs):\n",
    "        auc = trapz(df['recall'], df['fpr'])\n",
    "        plt.plot(df['fpr'], df['recall'],\n",
    "                 label=labels[i]+', AUC = '+str(round(auc, 3)),\n",
    "                 color=COLORS[i], linewidth=lw)\n",
    "\n",
    "    plt.plot([0, 1], [0, 1], 'k--', lw=lw, label='Random Classifier')\n",
    "    plt.xlim([0.0, 1.0])\n",
    "    plt.ylim([0.0, 1.0])\n",
    "    plt.grid()\n",
    "    plt.xlabel('False Positive Rate')\n",
    "    plt.ylabel('True Positive Rate')\n",
    "    plt.title(title)\n",
    "    plt.legend(loc=\"lower right\", prop={'size': 6})\n",
    "    plt.savefig(filename, dpi=480)\n",
    "    plt.show()\n",
    "    \n",
    "print('SUCCESS')"
   ]
  },
  {
   "cell_type": "markdown",
   "source": [
    "Plot RA dataset evals"
   ],
   "metadata": {
    "collapsed": false,
    "pycharm": {
     "name": "#%% md\n"
    }
   }
  },
  {
   "cell_type": "code",
   "execution_count": null,
   "outputs": [],
   "source": [
    "DIR = '/Users/wang/Documents/git/lets_learn/infclean/data/tsv/eval/pdb_emb/rent_curves/'\n",
    "EMB_PREFIX = DIR + 'emb_'\n",
    "PLAIN_PREFIX = DIR + 'plain_'\n",
    "NR_PREFIX = 'NR_'\n",
    "PR_SUFFIX = 'pr_curve.csv'\n",
    "ROC_SUFFIX = 'roc_curve.csv'\n",
    "\n",
    "emb_pr_df = pd.read_csv(EMB_PREFIX+PR_SUFFIX)\n",
    "emb_roc_df = pd.read_csv(EMB_PREFIX+ROC_SUFFIX)\n",
    "plain_pr_df = pd.read_csv(PLAIN_PREFIX+PR_SUFFIX)\n",
    "plain_roc_df = pd.read_csv(PLAIN_PREFIX+ROC_SUFFIX)\n",
    "emb_nr_pr_df = pd.read_csv(EMB_PREFIX+NR_PREFIX+PR_SUFFIX)\n",
    "emb_nr_roc_df = pd.read_csv(EMB_PREFIX+NR_PREFIX+ROC_SUFFIX)\n",
    "plain_nr_pr_df = pd.read_csv(PLAIN_PREFIX+NR_PREFIX+PR_SUFFIX)\n",
    "plain_nr_roc_df = pd.read_csv(PLAIN_PREFIX+NR_PREFIX+ROC_SUFFIX)\n",
    "\n",
    "plot_roc([emb_roc_df, plain_roc_df], ['With embeddings', 'Without embeddings'], 'With vs. without embeddings with RA dataset - ROC Curves', 'ra_emb_roc.png')\n",
    "plot_pr([emb_pr_df, plain_pr_df], ['With embeddings', 'Without embeddings'], 'With vs. without embeddings with RA dataset - PR Curves', 'ra_emb_pr.png')\n",
    "plot_roc([emb_roc_df, emb_nr_roc_df], ['With ICs', 'Without ICs'], 'With vs. without ICs with RA dataset - With embeddings  - ROC Curves', 'ra_emb_ic_roc.png')\n",
    "plot_pr([emb_pr_df, emb_nr_pr_df], ['With ICs', 'Without ICs'], 'With vs. without ICs with RA dataset - With embeddings  - PR Curves', 'ra_emb_ic_pr.png')\n",
    "plot_roc([plain_roc_df, plain_nr_roc_df], ['With ICs', 'Without ICs'], 'With vs. without ICs with RA dataset - No embeddings - ROC Curves', 'ra_plain_ic_roc.png')\n",
    "plot_pr([plain_pr_df, plain_nr_pr_df], ['With ICs', 'Without ICs'], 'With vs. without ICs with RA dataset - No embeddings - PR Curves', 'ra_plain_ic_pr.png')"
   ],
   "metadata": {
    "collapsed": false,
    "pycharm": {
     "name": "#%%\n",
     "is_executing": false
    }
   }
  },
  {
   "cell_type": "code",
   "execution_count": null,
   "outputs": [],
   "source": [
    "ss = [500, 3000, 6000, 10000]\n",
    "pr_list = []\n",
    "roc_list = []\n",
    "label_list = []\n",
    "\n",
    "for s in ss:\n",
    "    DIR = '/Users/wang/Documents/git/lets_learn/infclean/data/tsv/eval/pdb_params/ra/s/' + str(s) + '/'\n",
    "    EMB_PREFIX = DIR + 'ra_emb_'\n",
    "    PR_SUFFIX = 'pr.csv'\n",
    "    ROC_SUFFIX = 'roc.csv'\n",
    "    \n",
    "    emb_pr_df = pd.read_csv(EMB_PREFIX+PR_SUFFIX)\n",
    "    emb_roc_df = pd.read_csv(EMB_PREFIX+ROC_SUFFIX)\n",
    "    pr_list.append(emb_pr_df)\n",
    "    roc_list.append(emb_roc_df)\n",
    "    label_list.append('$|tuples(D)|$ = ' + str(s))\n",
    "    \n",
    "plot_roc(roc_list, label_list, 'RA datasets of different sizes - ROC Curves', 'ra_emb_roc.png')\n",
    "plot_pr(pr_list, label_list, 'RA datasets of different sizes - PR Curves', 'ra_emb_pr.png')"
   ],
   "metadata": {
    "collapsed": false,
    "pycharm": {
     "name": "#%%\n",
     "is_executing": false
    }
   }
  },
  {
   "cell_type": "code",
   "execution_count": null,
   "outputs": [],
   "source": [
    "def plot_sp_pr(line_dfs, labels, title, filename, k_list):\n",
    "    lw = 2\n",
    "    plt.figure()\n",
    "    for i, df in enumerate(line_dfs):\n",
    "        #ppn = round(line_dfs[i]['precision'][len(line_dfs[i]['precision'])-1], 3)\n",
    "        ppn = k_list[i] / (1 + k_list[i])\n",
    "        #auc = trapz(df['precision'], df['recall'])\n",
    "        plt.plot(df['recall'], df['precision'],\n",
    "                 label=labels[i],# + ', AUC = ' + str(round(auc, 3)),\n",
    "                 color=COLORS[i], linewidth=lw)\n",
    "        plt.axhline(y=ppn, color=COLORS[i], linestyle='--', label='Random Classifier for '+labels[i])\n",
    "\n",
    "    #plt.plot([0, 1], [0, 1], 'k--', lw=lw)\n",
    " #   ppn = round(line_dfs[0]['precision'][len(line_dfs[0]['precision'])-1], 3)\n",
    "  #  plt.axhline(y=ppn, color='gray', linestyle='--', label='Random Classifier')\n",
    "    plt.xlim([0.0, 1.0])\n",
    "    plt.ylim([0.0, 1.0])\n",
    "    plt.grid()\n",
    "    plt.xlabel('Recall')\n",
    "    plt.ylabel('Precision')\n",
    "    plt.title(title)\n",
    "    plt.legend(loc=\"upper right\", prop={'size': 6})\n",
    "    plt.savefig(filename, dpi=480)\n",
    "    plt.show()\n",
    "\n",
    "kk = [0.01, 0.05, 0.2, 0.4]\n",
    "pr_list = []\n",
    "roc_list = []\n",
    "label_list = []\n",
    "\n",
    "for k in kk:\n",
    "    DIR = '/Users/wang/Documents/git/lets_learn/infclean/data/tsv/eval/pdb_params/ra/k/' + str(k) + '/'\n",
    "    EMB_PREFIX = DIR + 'ra_emb_'\n",
    "    PR_SUFFIX = 'pr.csv'\n",
    "    ROC_SUFFIX = 'roc.csv'\n",
    "    \n",
    "    emb_pr_df = pd.read_csv(EMB_PREFIX+PR_SUFFIX)\n",
    "    emb_roc_df = pd.read_csv(EMB_PREFIX+ROC_SUFFIX)\n",
    "    pr_list.append(emb_pr_df)\n",
    "    roc_list.append(emb_roc_df)\n",
    "    label_list.append('$k / |tuples(D)|$ = ' + str(k))\n",
    "    \n",
    "plot_roc(roc_list, label_list, 'Effect of $k / |tuples(D)|$ - ROC Curves', 'ra_emb_roc.png')\n",
    "plot_sp_pr(pr_list, label_list, 'Effect of $k / |tuples(D)|$ - PR Curves', 'ra_emb_pr.png', kk)"
   ],
   "metadata": {
    "collapsed": false,
    "pycharm": {
     "name": "#%%\n",
     "is_executing": false
    }
   }
  },
  {
   "cell_type": "code",
   "execution_count": null,
   "outputs": [],
   "source": [
    "pp = [0.2, 0.5, 0.8, 1.0]\n",
    "pr_list = []\n",
    "roc_list = []\n",
    "label_list = []\n",
    "\n",
    "for p in pp:\n",
    "    DIR = '/Users/wang/Documents/git/lets_learn/infclean/data/tsv/eval/pdb_params/ra/p_k005/' + str(p) + '/'\n",
    "    EMB_PREFIX = DIR + 'ra_emb_'\n",
    "    PR_SUFFIX = 'pr.csv'\n",
    "    ROC_SUFFIX = 'roc.csv'\n",
    "    \n",
    "    emb_pr_df = pd.read_csv(EMB_PREFIX+PR_SUFFIX)\n",
    "    emb_roc_df = pd.read_csv(EMB_PREFIX+ROC_SUFFIX)\n",
    "    pr_list.append(emb_pr_df)\n",
    "    roc_list.append(emb_roc_df)\n",
    "    label_list.append('$p$ = ' + str(p))\n",
    "    \n",
    "plot_roc(roc_list, label_list, 'Effect of $p$ - ROC Curves', 'ra_emb_roc.png')\n",
    "plot_pr(pr_list, label_list, 'Effect of $p$ - PR Curves', 'ra_emb_pr.png')"
   ],
   "metadata": {
    "collapsed": false,
    "pycharm": {
     "name": "#%%    \n",
     "is_executing": false
    }
   }
  },
  {
   "cell_type": "markdown",
   "source": [
    "Plot Merc dataset evals"
   ],
   "metadata": {
    "collapsed": false,
    "pycharm": {
     "name": "#%% md\n"
    }
   }
  },
  {
   "cell_type": "code",
   "execution_count": null,
   "outputs": [],
   "source": [
    "DIR = '/Users/wang/Documents/git/lets_learn/infclean/data/tsv/eval/correct_pdb_emb/merc/curves/'\n",
    "EMB_PREFIX = DIR + 'ek_emb_'\n",
    "PLAIN_PREFIX = DIR + 'ek_plain_'\n",
    "NR_PREFIX = 'NR_'\n",
    "PR_SUFFIX = 'pr.csv'\n",
    "ROC_SUFFIX = 'roc.csv'\n",
    "\n",
    "emb_pr_df = pd.read_csv(EMB_PREFIX+PR_SUFFIX)\n",
    "emb_roc_df = pd.read_csv(EMB_PREFIX+ROC_SUFFIX)\n",
    "plain_pr_df = pd.read_csv(PLAIN_PREFIX+PR_SUFFIX)\n",
    "plain_roc_df = pd.read_csv(PLAIN_PREFIX+ROC_SUFFIX)\n",
    "emb_nr_pr_df = pd.read_csv(EMB_PREFIX+NR_PREFIX+PR_SUFFIX)\n",
    "emb_nr_roc_df = pd.read_csv(EMB_PREFIX+NR_PREFIX+ROC_SUFFIX)\n",
    "plain_nr_pr_df = pd.read_csv(PLAIN_PREFIX+NR_PREFIX+PR_SUFFIX)\n",
    "plain_nr_roc_df = pd.read_csv(PLAIN_PREFIX+NR_PREFIX+ROC_SUFFIX)\n",
    "\n",
    "\n",
    "plot_roc([emb_roc_df, plain_roc_df], ['With embeddings', 'Without embeddings'], 'With vs. without embeddings with Mercateo dataset - ROC Curves', 'merc_emb_roc.png')\n",
    "plot_pr([emb_pr_df, plain_pr_df], ['With embeddings', 'Without embeddings'], 'With vs. without embeddings with Mercateo dataset - PR Curves', 'merc_emb_pr.png')\n",
    "plot_roc([emb_roc_df, emb_nr_roc_df], ['With ICs', 'Without ICs'], 'With vs. without ICs with Mercateo dataset - With embeddings  - ROC Curves', 'merc_emb_ic_roc.png')\n",
    "plot_pr([emb_pr_df, emb_nr_pr_df], ['With ICs', 'Without ICs'], 'With vs. without ICs with Mercateo dataset - With embeddings  - PR Curves', 'merc_emb_ic_pr.png')\n",
    "plot_roc([plain_roc_df, plain_nr_roc_df], ['With ICs', 'Without ICs'], 'With vs. without ICs with Mercateo dataset - No embeddings - ROC Curves', 'merc_plain_ic_roc.png')\n",
    "plot_pr([plain_pr_df, plain_nr_pr_df], ['With ICs', 'Without ICs'], 'With vs. without ICs with Mercateo dataset - No embeddings - PR Curves', 'merc_plain_ic_pr.png')"
   ],
   "metadata": {
    "collapsed": false,
    "pycharm": {
     "name": "#%%\n",
     "is_executing": false
    }
   }
  },
  {
   "cell_type": "code",
   "execution_count": null,
   "outputs": [],
   "source": [
    "edims = [5, 30, 100, 500]\n",
    "pr_list = []\n",
    "roc_list = []\n",
    "label_list = []\n",
    "\n",
    "for edim in edims:\n",
    "    \n",
    "    DIR = '/Users/wang/Documents/git/lets_learn/infclean/data/tsv/eval/tf_emb_model/dime/' + str(edim) + '/'\n",
    "    EMB_PREFIX = DIR + 'ek_emb_'\n",
    "    PR_SUFFIX = 'pr.csv'\n",
    "    ROC_SUFFIX = 'roc.csv'\n",
    "    \n",
    "    emb_pr_df = pd.read_csv(EMB_PREFIX+PR_SUFFIX)\n",
    "    emb_roc_df = pd.read_csv(EMB_PREFIX+ROC_SUFFIX)\n",
    "    pr_list.append(emb_pr_df)\n",
    "    roc_list.append(emb_roc_df)\n",
    "    label_list.append('$dim_e$ = ' + str(edim))\n",
    "\n",
    "plot_roc(roc_list, label_list, 'Effect of $dim_e$ - ROC Curves', 'ek_emb_roc.png')\n",
    "plot_pr(pr_list, label_list, 'Effect of $dim_e$ - PR Curves', 'ek_emb_pr.png')"
   ],
   "metadata": {
    "collapsed": false,
    "pycharm": {
     "name": "#%%\n",
     "is_executing": false
    }
   }
  },
  {
   "cell_type": "code",
   "execution_count": null,
   "outputs": [],
   "source": [
    "bss = [256, 1024, 4096, 10000]\n",
    "pr_list = []\n",
    "roc_list = []\n",
    "label_list = []\n",
    "\n",
    "for bs in bss:\n",
    "    \n",
    "    DIR = '/Users/wang/Documents/git/lets_learn/infclean/data/tsv/eval/tf_emb_model/batchsize/' + str(bs) + '/'\n",
    "    EMB_PREFIX = DIR + 'ek_emb_'\n",
    "    PR_SUFFIX = 'pr.csv'\n",
    "    ROC_SUFFIX = 'roc.csv'\n",
    "    \n",
    "    emb_pr_df = pd.read_csv(EMB_PREFIX+PR_SUFFIX)\n",
    "    emb_roc_df = pd.read_csv(EMB_PREFIX+ROC_SUFFIX)\n",
    "    pr_list.append(emb_pr_df)\n",
    "    roc_list.append(emb_roc_df)\n",
    "    if bs == 10000:\n",
    "        label_list.append('$batch\\_size$ = $|tuples(D)|$')\n",
    "    else:\n",
    "        label_list.append('$batch\\_size$ = ' + str(bs))\n",
    "\n",
    "plot_roc(roc_list, label_list, 'Effect of $batch\\_size$ - ROC Curves', 'ek_emb_roc.png')\n",
    "plot_pr(pr_list, label_list, 'Effect of $batch\\_size$ - PR Curves', 'ek_emb_pr.png')"
   ],
   "metadata": {
    "collapsed": false,
    "pycharm": {
     "name": "#%%\n",
     "is_executing": false
    }
   }
  }
 ],
 "metadata": {
  "kernelspec": {
   "display_name": "Python 3",
   "language": "python",
   "name": "python3"
  },
  "language_info": {
   "codemirror_mode": {
    "name": "ipython",
    "version": 2
   },
   "file_extension": ".py",
   "mimetype": "text/x-python",
   "name": "python",
   "nbconvert_exporter": "python",
   "pygments_lexer": "ipython2",
   "version": "2.7.6"
  },
  "pycharm": {
   "stem_cell": {
    "cell_type": "raw",
    "source": [],
    "metadata": {
     "collapsed": false
    }
   }
  }
 },
 "nbformat": 4,
 "nbformat_minor": 0
}